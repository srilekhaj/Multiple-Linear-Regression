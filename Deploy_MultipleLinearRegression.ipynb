{
 "cells": [
  {
   "cell_type": "code",
   "execution_count": 1,
   "id": "5e6e8229-f37b-4ba1-b0d0-bcfb060e1401",
   "metadata": {},
   "outputs": [],
   "source": [
    "#importing the pickle module\n",
    "import pickle"
   ]
  },
  {
   "cell_type": "code",
   "execution_count": 2,
   "id": "d7dcc0e1-d841-4fd2-ba92-89ceeb88c4c9",
   "metadata": {},
   "outputs": [],
   "source": [
    "# Loading the trained Simple linear regression model from a .sav file\n",
    "loaded_model = pickle.load(open('Multiplelinear_Reg_finalized_model.sav', 'rb'))"
   ]
  },
  {
   "cell_type": "code",
   "execution_count": 3,
   "id": "a9873478-c626-4e23-bf22-988e708e45f9",
   "metadata": {},
   "outputs": [
    {
     "name": "stderr",
     "output_type": "stream",
     "text": [
      "C:\\Users\\jsril\\anaconda3\\Lib\\site-packages\\sklearn\\base.py:493: UserWarning: X does not have valid feature names, but LinearRegression was fitted with feature names\n",
      "  warnings.warn(\n"
     ]
    }
   ],
   "source": [
    "result = loaded_model.predict([[1032, 1723, 4632, 1, 0]])  #give all input column all input values 5columns = 5values\n"
   ]
  },
  {
   "cell_type": "code",
   "execution_count": 4,
   "id": "cc4a4fea-a177-4e22-b23b-54d2d2f4572e",
   "metadata": {},
   "outputs": [
    {
     "name": "stdout",
     "output_type": "stream",
     "text": [
      "Profit earned is :  [[43878.73693585]]\n"
     ]
    }
   ],
   "source": [
    "#printing the prediction result . output\n",
    "print(\"Profit earned is : \", result)"
   ]
  },
  {
   "cell_type": "code",
   "execution_count": null,
   "id": "28ec0985-a3a5-41d8-bf56-0b1504fe5bb6",
   "metadata": {},
   "outputs": [],
   "source": []
  },
  {
   "cell_type": "code",
   "execution_count": 5,
   "id": "9f1ed93b-a2a1-46ba-be17-e7207db64820",
   "metadata": {},
   "outputs": [],
   "source": [
    "#ignoring warnings from output\n",
    "import warnings\n",
    "warnings.filterwarnings(\"ignore\") #ignoring the warnings"
   ]
  },
  {
   "cell_type": "code",
   "execution_count": 6,
   "id": "370282e6-73e3-43f2-b960-04caca4fff1e",
   "metadata": {},
   "outputs": [
    {
     "data": {
      "text/plain": [
       "array([[192239.66787833]])"
      ]
     },
     "execution_count": 6,
     "metadata": {},
     "output_type": "execute_result"
    }
   ],
   "source": [
    "#input 2\n",
    "result = loaded_model.predict([[165349.20,136897.80,471784.10, 0, 1]])\n",
    "result"
   ]
  },
  {
   "cell_type": "code",
   "execution_count": null,
   "id": "2df51521-83e7-48d8-aaac-d07fe054dc54",
   "metadata": {},
   "outputs": [],
   "source": []
  }
 ],
 "metadata": {
  "kernelspec": {
   "display_name": "Python 3 (ipykernel)",
   "language": "python",
   "name": "python3"
  },
  "language_info": {
   "codemirror_mode": {
    "name": "ipython",
    "version": 3
   },
   "file_extension": ".py",
   "mimetype": "text/x-python",
   "name": "python",
   "nbconvert_exporter": "python",
   "pygments_lexer": "ipython3",
   "version": "3.12.7"
  }
 },
 "nbformat": 4,
 "nbformat_minor": 5
}
